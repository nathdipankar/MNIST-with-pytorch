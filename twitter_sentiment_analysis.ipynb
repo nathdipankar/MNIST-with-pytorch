{
 "cells": [
  {
   "cell_type": "code",
   "execution_count": 1,
   "metadata": {},
   "outputs": [],
   "source": [
    "import numpy as np\n",
    "import re\n",
    "import pandas as pd\n",
    "import seaborn as sns\n",
    "import matplotlib.pyplot as plt\n",
    "%matplotlib inline"
   ]
  },
  {
   "cell_type": "code",
   "execution_count": 2,
   "metadata": {},
   "outputs": [],
   "source": [
    "training = pd.read_csv('trainingandtestdata/training.1600000.processed.noemoticon.csv', encoding=\"latin1\", header=None)"
   ]
  },
  {
   "cell_type": "code",
   "execution_count": 3,
   "metadata": {},
   "outputs": [
    {
     "data": {
      "text/html": [
       "<div>\n",
       "<style scoped>\n",
       "    .dataframe tbody tr th:only-of-type {\n",
       "        vertical-align: middle;\n",
       "    }\n",
       "\n",
       "    .dataframe tbody tr th {\n",
       "        vertical-align: top;\n",
       "    }\n",
       "\n",
       "    .dataframe thead th {\n",
       "        text-align: right;\n",
       "    }\n",
       "</style>\n",
       "<table border=\"1\" class=\"dataframe\">\n",
       "  <thead>\n",
       "    <tr style=\"text-align: right;\">\n",
       "      <th></th>\n",
       "      <th>0</th>\n",
       "      <th>1</th>\n",
       "      <th>2</th>\n",
       "      <th>3</th>\n",
       "      <th>4</th>\n",
       "      <th>5</th>\n",
       "    </tr>\n",
       "  </thead>\n",
       "  <tbody>\n",
       "    <tr>\n",
       "      <th>0</th>\n",
       "      <td>0</td>\n",
       "      <td>1467810369</td>\n",
       "      <td>Mon Apr 06 22:19:45 PDT 2009</td>\n",
       "      <td>NO_QUERY</td>\n",
       "      <td>_TheSpecialOne_</td>\n",
       "      <td>@switchfoot http://twitpic.com/2y1zl - Awww, t...</td>\n",
       "    </tr>\n",
       "    <tr>\n",
       "      <th>1</th>\n",
       "      <td>0</td>\n",
       "      <td>1467810672</td>\n",
       "      <td>Mon Apr 06 22:19:49 PDT 2009</td>\n",
       "      <td>NO_QUERY</td>\n",
       "      <td>scotthamilton</td>\n",
       "      <td>is upset that he can't update his Facebook by ...</td>\n",
       "    </tr>\n",
       "    <tr>\n",
       "      <th>2</th>\n",
       "      <td>0</td>\n",
       "      <td>1467810917</td>\n",
       "      <td>Mon Apr 06 22:19:53 PDT 2009</td>\n",
       "      <td>NO_QUERY</td>\n",
       "      <td>mattycus</td>\n",
       "      <td>@Kenichan I dived many times for the ball. Man...</td>\n",
       "    </tr>\n",
       "    <tr>\n",
       "      <th>3</th>\n",
       "      <td>0</td>\n",
       "      <td>1467811184</td>\n",
       "      <td>Mon Apr 06 22:19:57 PDT 2009</td>\n",
       "      <td>NO_QUERY</td>\n",
       "      <td>ElleCTF</td>\n",
       "      <td>my whole body feels itchy and like its on fire</td>\n",
       "    </tr>\n",
       "    <tr>\n",
       "      <th>4</th>\n",
       "      <td>0</td>\n",
       "      <td>1467811193</td>\n",
       "      <td>Mon Apr 06 22:19:57 PDT 2009</td>\n",
       "      <td>NO_QUERY</td>\n",
       "      <td>Karoli</td>\n",
       "      <td>@nationwideclass no, it's not behaving at all....</td>\n",
       "    </tr>\n",
       "  </tbody>\n",
       "</table>\n",
       "</div>"
      ],
      "text/plain": [
       "   0           1                             2         3                4  \\\n",
       "0  0  1467810369  Mon Apr 06 22:19:45 PDT 2009  NO_QUERY  _TheSpecialOne_   \n",
       "1  0  1467810672  Mon Apr 06 22:19:49 PDT 2009  NO_QUERY    scotthamilton   \n",
       "2  0  1467810917  Mon Apr 06 22:19:53 PDT 2009  NO_QUERY         mattycus   \n",
       "3  0  1467811184  Mon Apr 06 22:19:57 PDT 2009  NO_QUERY          ElleCTF   \n",
       "4  0  1467811193  Mon Apr 06 22:19:57 PDT 2009  NO_QUERY           Karoli   \n",
       "\n",
       "                                                   5  \n",
       "0  @switchfoot http://twitpic.com/2y1zl - Awww, t...  \n",
       "1  is upset that he can't update his Facebook by ...  \n",
       "2  @Kenichan I dived many times for the ball. Man...  \n",
       "3    my whole body feels itchy and like its on fire   \n",
       "4  @nationwideclass no, it's not behaving at all....  "
      ]
     },
     "execution_count": 3,
     "metadata": {},
     "output_type": "execute_result"
    }
   ],
   "source": [
    "training.head()"
   ]
  },
  {
   "cell_type": "code",
   "execution_count": 4,
   "metadata": {},
   "outputs": [],
   "source": [
    "training = training.drop(columns = [1,2,3, 4])"
   ]
  },
  {
   "cell_type": "code",
   "execution_count": 5,
   "metadata": {},
   "outputs": [],
   "source": [
    "training = training.rename(columns={0:'sentiment', 5:'Tweet'})"
   ]
  },
  {
   "cell_type": "code",
   "execution_count": 6,
   "metadata": {},
   "outputs": [
    {
     "data": {
      "text/html": [
       "<div>\n",
       "<style scoped>\n",
       "    .dataframe tbody tr th:only-of-type {\n",
       "        vertical-align: middle;\n",
       "    }\n",
       "\n",
       "    .dataframe tbody tr th {\n",
       "        vertical-align: top;\n",
       "    }\n",
       "\n",
       "    .dataframe thead th {\n",
       "        text-align: right;\n",
       "    }\n",
       "</style>\n",
       "<table border=\"1\" class=\"dataframe\">\n",
       "  <thead>\n",
       "    <tr style=\"text-align: right;\">\n",
       "      <th></th>\n",
       "      <th>sentiment</th>\n",
       "      <th>Tweet</th>\n",
       "    </tr>\n",
       "  </thead>\n",
       "  <tbody>\n",
       "    <tr>\n",
       "      <th>0</th>\n",
       "      <td>0</td>\n",
       "      <td>@switchfoot http://twitpic.com/2y1zl - Awww, t...</td>\n",
       "    </tr>\n",
       "    <tr>\n",
       "      <th>1</th>\n",
       "      <td>0</td>\n",
       "      <td>is upset that he can't update his Facebook by ...</td>\n",
       "    </tr>\n",
       "    <tr>\n",
       "      <th>2</th>\n",
       "      <td>0</td>\n",
       "      <td>@Kenichan I dived many times for the ball. Man...</td>\n",
       "    </tr>\n",
       "    <tr>\n",
       "      <th>3</th>\n",
       "      <td>0</td>\n",
       "      <td>my whole body feels itchy and like its on fire</td>\n",
       "    </tr>\n",
       "    <tr>\n",
       "      <th>4</th>\n",
       "      <td>0</td>\n",
       "      <td>@nationwideclass no, it's not behaving at all....</td>\n",
       "    </tr>\n",
       "  </tbody>\n",
       "</table>\n",
       "</div>"
      ],
      "text/plain": [
       "   sentiment                                              Tweet\n",
       "0          0  @switchfoot http://twitpic.com/2y1zl - Awww, t...\n",
       "1          0  is upset that he can't update his Facebook by ...\n",
       "2          0  @Kenichan I dived many times for the ball. Man...\n",
       "3          0    my whole body feels itchy and like its on fire \n",
       "4          0  @nationwideclass no, it's not behaving at all...."
      ]
     },
     "execution_count": 6,
     "metadata": {},
     "output_type": "execute_result"
    }
   ],
   "source": [
    "training.head()"
   ]
  },
  {
   "cell_type": "code",
   "execution_count": 7,
   "metadata": {},
   "outputs": [],
   "source": [
    "from tqdm import tqdm, tqdm_notebook\n",
    "tqdm.pandas(desc = \"progress-bar\")"
   ]
  },
  {
   "cell_type": "code",
   "execution_count": 8,
   "metadata": {},
   "outputs": [],
   "source": [
    "from nltk.tokenize import TweetTokenizer\n",
    "tkznr = TweetTokenizer()"
   ]
  },
  {
   "cell_type": "code",
   "execution_count": 9,
   "metadata": {},
   "outputs": [],
   "source": [
    "# let us define a function for tokenizing the tweets"
   ]
  },
  {
   "cell_type": "code",
   "execution_count": 10,
   "metadata": {},
   "outputs": [],
   "source": [
    "def tokenize(tweet):\n",
    "    try:\n",
    "        tweet = str(tweet.lower())#make all letters lower case\n",
    "        tokens = tkznr.tokenize(tweet)\n",
    "        prefix = 'http'\n",
    "        for word in tokens:\n",
    "            if word.startswith(prefix):\n",
    "                tokens.remove(word)\n",
    "                tokens.remove('-')\n",
    "            if word.startswith('#'):\n",
    "                tokens.remove(words)\n",
    "            if word.startswith('@'):\n",
    "                tokens.remove(words)\n",
    "        return tokens\n",
    "    except:\n",
    "        return 'NC'"
   ]
  },
  {
   "cell_type": "code",
   "execution_count": 11,
   "metadata": {},
   "outputs": [],
   "source": [
    "#Define funtion to process all tweets and incorporate the tokenize function \n",
    "def process(data):\n",
    "    #data = data.head(n=n)\n",
    "    data['tokens'] = data['Tweet'].progress_map(tokenize)\n",
    "    data = data[data['tokens']!='NC']\n",
    "    data.reset_index(inplace = True)\n",
    "    data.drop(columns = 'index', inplace= True)\n",
    "    return data"
   ]
  },
  {
   "cell_type": "code",
   "execution_count": 12,
   "metadata": {},
   "outputs": [
    {
     "name": "stderr",
     "output_type": "stream",
     "text": [
      "progress-bar: 100%|███████████████████████████████████████████████████████| 1600000/1600000 [01:08<00:00, 23263.42it/s]\n",
      "C:\\Users\\nathd\\Anaconda3\\lib\\site-packages\\pandas\\core\\frame.py:3694: SettingWithCopyWarning: \n",
      "A value is trying to be set on a copy of a slice from a DataFrame\n",
      "\n",
      "See the caveats in the documentation: http://pandas.pydata.org/pandas-docs/stable/indexing.html#indexing-view-versus-copy\n",
      "  errors=errors)\n"
     ]
    }
   ],
   "source": [
    "training_tokenized = process(training)"
   ]
  },
  {
   "cell_type": "code",
   "execution_count": 13,
   "metadata": {},
   "outputs": [
    {
     "data": {
      "text/html": [
       "<div>\n",
       "<style scoped>\n",
       "    .dataframe tbody tr th:only-of-type {\n",
       "        vertical-align: middle;\n",
       "    }\n",
       "\n",
       "    .dataframe tbody tr th {\n",
       "        vertical-align: top;\n",
       "    }\n",
       "\n",
       "    .dataframe thead th {\n",
       "        text-align: right;\n",
       "    }\n",
       "</style>\n",
       "<table border=\"1\" class=\"dataframe\">\n",
       "  <thead>\n",
       "    <tr style=\"text-align: right;\">\n",
       "      <th></th>\n",
       "      <th>sentiment</th>\n",
       "      <th>Tweet</th>\n",
       "      <th>tokens</th>\n",
       "    </tr>\n",
       "  </thead>\n",
       "  <tbody>\n",
       "    <tr>\n",
       "      <th>0</th>\n",
       "      <td>0</td>\n",
       "      <td>is upset that he can't update his Facebook by ...</td>\n",
       "      <td>[is, upset, that, he, can't, update, his, face...</td>\n",
       "    </tr>\n",
       "    <tr>\n",
       "      <th>1</th>\n",
       "      <td>0</td>\n",
       "      <td>my whole body feels itchy and like its on fire</td>\n",
       "      <td>[my, whole, body, feels, itchy, and, like, its...</td>\n",
       "    </tr>\n",
       "    <tr>\n",
       "      <th>2</th>\n",
       "      <td>0</td>\n",
       "      <td>Need a hug</td>\n",
       "      <td>[need, a, hug]</td>\n",
       "    </tr>\n",
       "    <tr>\n",
       "      <th>3</th>\n",
       "      <td>0</td>\n",
       "      <td>spring break in plain city... it's snowing</td>\n",
       "      <td>[spring, break, in, plain, city, ..., it's, sn...</td>\n",
       "    </tr>\n",
       "    <tr>\n",
       "      <th>4</th>\n",
       "      <td>0</td>\n",
       "      <td>I just re-pierced my ears</td>\n",
       "      <td>[i, just, re-pierced, my, ears]</td>\n",
       "    </tr>\n",
       "  </tbody>\n",
       "</table>\n",
       "</div>"
      ],
      "text/plain": [
       "   sentiment                                              Tweet  \\\n",
       "0          0  is upset that he can't update his Facebook by ...   \n",
       "1          0    my whole body feels itchy and like its on fire    \n",
       "2          0                                        Need a hug    \n",
       "3          0        spring break in plain city... it's snowing    \n",
       "4          0                         I just re-pierced my ears    \n",
       "\n",
       "                                              tokens  \n",
       "0  [is, upset, that, he, can't, update, his, face...  \n",
       "1  [my, whole, body, feels, itchy, and, like, its...  \n",
       "2                                     [need, a, hug]  \n",
       "3  [spring, break, in, plain, city, ..., it's, sn...  \n",
       "4                    [i, just, re-pierced, my, ears]  "
      ]
     },
     "execution_count": 13,
     "metadata": {},
     "output_type": "execute_result"
    }
   ],
   "source": [
    "training_tokenized.head()"
   ]
  },
  {
   "cell_type": "code",
   "execution_count": 14,
   "metadata": {},
   "outputs": [],
   "source": [
    "#Positive sentiment is labeled as zero let's convert it to 1\n",
    "def convert2one(x):\n",
    "    if x > 0 :\n",
    "        return 1\n",
    "    else:\n",
    "        return x"
   ]
  },
  {
   "cell_type": "code",
   "execution_count": 15,
   "metadata": {},
   "outputs": [
    {
     "name": "stderr",
     "output_type": "stream",
     "text": [
      "C:\\Users\\nathd\\Anaconda3\\lib\\site-packages\\ipykernel_launcher.py:1: SettingWithCopyWarning: \n",
      "A value is trying to be set on a copy of a slice from a DataFrame.\n",
      "Try using .loc[row_indexer,col_indexer] = value instead\n",
      "\n",
      "See the caveats in the documentation: http://pandas.pydata.org/pandas-docs/stable/indexing.html#indexing-view-versus-copy\n",
      "  \"\"\"Entry point for launching an IPython kernel.\n"
     ]
    }
   ],
   "source": [
    "training_tokenized['sentiment'] = training_tokenized['sentiment'].apply(convert2one)"
   ]
  },
  {
   "cell_type": "markdown",
   "metadata": {},
   "source": [
    "### Implementing word2vec using gensim"
   ]
  },
  {
   "cell_type": "markdown",
   "metadata": {},
   "source": [
    "We will be using gensim to create a word2vec for the corpus that we have here. We will be using the gensim package to create a vector space of the words that exist in the corpus. Once we map all the words in the corpus to a vector space we will convert our tokenized tweets into vectors on the basis of the word2vec mapping."
   ]
  },
  {
   "cell_type": "code",
   "execution_count": 16,
   "metadata": {},
   "outputs": [],
   "source": [
    "#Splitting the data into training and test set"
   ]
  },
  {
   "cell_type": "code",
   "execution_count": 17,
   "metadata": {},
   "outputs": [],
   "source": [
    "from sklearn.model_selection import train_test_split"
   ]
  },
  {
   "cell_type": "code",
   "execution_count": 18,
   "metadata": {},
   "outputs": [],
   "source": [
    "X_train, X_test, y_train, y_test = train_test_split(training_tokenized['tokens'], training_tokenized['sentiment'], test_size = 0.2, shuffle = True)"
   ]
  },
  {
   "cell_type": "markdown",
   "metadata": {},
   "source": [
    "Before performing word2vec we need to convert the training set into a tagged document"
   ]
  },
  {
   "cell_type": "code",
   "execution_count": 19,
   "metadata": {},
   "outputs": [
    {
     "name": "stderr",
     "output_type": "stream",
     "text": [
      "C:\\Users\\nathd\\Anaconda3\\lib\\site-packages\\gensim\\utils.py:1209: UserWarning: detected Windows; aliasing chunkize to chunkize_serial\n",
      "  warnings.warn(\"detected Windows; aliasing chunkize to chunkize_serial\")\n"
     ]
    }
   ],
   "source": [
    "from gensim.models.doc2vec import TaggedDocument"
   ]
  },
  {
   "cell_type": "code",
   "execution_count": 20,
   "metadata": {},
   "outputs": [],
   "source": [
    "def tag_doc(data, label_type, explorer = 10):\n",
    "    taggedtweets = []\n",
    "    i = 0\n",
    "    for tweet in tqdm_notebook(data):\n",
    "        label = '{}_{}'.format(label_type, i)\n",
    "        tag_the_tweet = TaggedDocument(tweet, label)\n",
    "        taggedtweets.append(tag_the_tweet)\n",
    "        if i == explorer:\n",
    "            print(tweet)\n",
    "            print(tag_the_tweet)\n",
    "        i+=1\n",
    "        \n",
    "    return taggedtweets\n",
    "    \n",
    "        "
   ]
  },
  {
   "cell_type": "code",
   "execution_count": 21,
   "metadata": {},
   "outputs": [
    {
     "data": {
      "application/vnd.jupyter.widget-view+json": {
       "model_id": "b1baff4190204abe855a3394f5e5b7c1",
       "version_major": 2,
       "version_minor": 0
      },
      "text/plain": [
       "HBox(children=(IntProgress(value=0, max=640624), HTML(value='')))"
      ]
     },
     "metadata": {},
     "output_type": "display_data"
    },
    {
     "name": "stdout",
     "output_type": "stream",
     "text": [
      "['is', 'really', 'bummed', 'that', 'it', 'crowd', ':', 'episode', '4', 'season', '2', 'does', 'not', 'work']\n",
      "TaggedDocument(['is', 'really', 'bummed', 'that', 'it', 'crowd', ':', 'episode', '4', 'season', '2', 'does', 'not', 'work'], TRAIN_0)\n",
      "\n"
     ]
    }
   ],
   "source": [
    "train_taggedtweets = tag_doc(X_train, 'TRAIN', explorer=0)"
   ]
  },
  {
   "cell_type": "code",
   "execution_count": 22,
   "metadata": {},
   "outputs": [
    {
     "data": {
      "text/plain": [
       "TaggedDocument(words=['im', 'passing', 'over', 'the', 'hoover', 'dam', 'now', '.', 'almost', 'there'], tags='TRAIN_12')"
      ]
     },
     "execution_count": 22,
     "metadata": {},
     "output_type": "execute_result"
    }
   ],
   "source": [
    "train_taggedtweets[12]"
   ]
  },
  {
   "cell_type": "markdown",
   "metadata": {},
   "source": [
    "Now let us train our a word2vec model and get a vector representation of most words in the training set. "
   ]
  },
  {
   "cell_type": "code",
   "execution_count": 23,
   "metadata": {},
   "outputs": [],
   "source": [
    "from gensim.models import Word2Vec"
   ]
  },
  {
   "cell_type": "code",
   "execution_count": 24,
   "metadata": {},
   "outputs": [],
   "source": [
    "tweet_word2vec = Word2Vec(size = 200, min_count= 10)"
   ]
  },
  {
   "cell_type": "code",
   "execution_count": 25,
   "metadata": {},
   "outputs": [
    {
     "data": {
      "application/vnd.jupyter.widget-view+json": {
       "model_id": "c12225a6d78c40d3a71eb5175947ed30",
       "version_major": 2,
       "version_minor": 0
      },
      "text/plain": [
       "HBox(children=(IntProgress(value=0, max=640624), HTML(value='')))"
      ]
     },
     "metadata": {},
     "output_type": "display_data"
    },
    {
     "name": "stdout",
     "output_type": "stream",
     "text": [
      "\n"
     ]
    }
   ],
   "source": [
    "tweet_word2vec.build_vocab([tweet.words for tweet in tqdm_notebook(train_taggedtweets)])\n"
   ]
  },
  {
   "cell_type": "code",
   "execution_count": 26,
   "metadata": {},
   "outputs": [
    {
     "data": {
      "application/vnd.jupyter.widget-view+json": {
       "model_id": "f9379447e9f04d5489a2a33854d10b71",
       "version_major": 2,
       "version_minor": 0
      },
      "text/plain": [
       "HBox(children=(IntProgress(value=0, max=640624), HTML(value='')))"
      ]
     },
     "metadata": {},
     "output_type": "display_data"
    },
    {
     "name": "stdout",
     "output_type": "stream",
     "text": [
      "\n"
     ]
    },
    {
     "data": {
      "text/plain": [
       "(67813861, 94567140)"
      ]
     },
     "execution_count": 26,
     "metadata": {},
     "output_type": "execute_result"
    }
   ],
   "source": [
    "tweet_word2vec.train([tweet.words for tweet in tqdm_notebook(train_taggedtweets)], total_examples=len(train_taggedtweets), epochs=10)"
   ]
  },
  {
   "cell_type": "code",
   "execution_count": 27,
   "metadata": {},
   "outputs": [
    {
     "name": "stderr",
     "output_type": "stream",
     "text": [
      "C:\\Users\\nathd\\Anaconda3\\lib\\site-packages\\gensim\\matutils.py:737: FutureWarning: Conversion of the second argument of issubdtype from `int` to `np.signedinteger` is deprecated. In future, it will be treated as `np.int32 == np.dtype(int).type`.\n",
      "  if np.issubdtype(vec.dtype, np.int):\n"
     ]
    },
    {
     "data": {
      "text/plain": [
       "[('goood', 0.7706956267356873),\n",
       " ('goooood', 0.7457799911499023),\n",
       " ('gooood', 0.7304670214653015),\n",
       " ('great', 0.7254845499992371),\n",
       " ('rough', 0.6570172905921936),\n",
       " ('gd', 0.6378801465034485),\n",
       " ('gud', 0.6343272924423218),\n",
       " ('nice', 0.6214916706085205),\n",
       " ('terrible', 0.6093655824661255),\n",
       " ('fantastic', 0.6032646298408508)]"
      ]
     },
     "execution_count": 27,
     "metadata": {},
     "output_type": "execute_result"
    }
   ],
   "source": [
    "tweet_word2vec.wv.most_similar(positive = 'good')"
   ]
  },
  {
   "cell_type": "code",
   "execution_count": 28,
   "metadata": {},
   "outputs": [
    {
     "name": "stderr",
     "output_type": "stream",
     "text": [
      "C:\\Users\\nathd\\Anaconda3\\lib\\site-packages\\gensim\\matutils.py:737: FutureWarning: Conversion of the second argument of issubdtype from `int` to `np.signedinteger` is deprecated. In future, it will be treated as `np.int32 == np.dtype(int).type`.\n",
      "  if np.issubdtype(vec.dtype, np.int):\n"
     ]
    },
    {
     "data": {
      "text/plain": [
       "[('girl', 0.6843696236610413),\n",
       " ('man', 0.5516564846038818),\n",
       " ('kid', 0.5508373975753784),\n",
       " ('puppy', 0.5402565002441406),\n",
       " ('guy', 0.5377308130264282),\n",
       " ('boyfriend', 0.5344223976135254),\n",
       " ('fella', 0.5124790668487549),\n",
       " ('girlfriend', 0.5088516473770142),\n",
       " ('nephew', 0.5062916874885559),\n",
       " ('kitten', 0.5003682374954224)]"
      ]
     },
     "execution_count": 28,
     "metadata": {},
     "output_type": "execute_result"
    }
   ],
   "source": [
    "tweet_word2vec.wv.most_similar(positive = 'boy')"
   ]
  },
  {
   "cell_type": "code",
   "execution_count": 29,
   "metadata": {},
   "outputs": [
    {
     "name": "stderr",
     "output_type": "stream",
     "text": [
      "C:\\Users\\nathd\\Anaconda3\\lib\\site-packages\\gensim\\matutils.py:737: FutureWarning: Conversion of the second argument of issubdtype from `int` to `np.signedinteger` is deprecated. In future, it will be treated as `np.int32 == np.dtype(int).type`.\n",
      "  if np.issubdtype(vec.dtype, np.int):\n"
     ]
    },
    {
     "data": {
      "text/plain": [
       "[('league', 0.6075648069381714),\n",
       " ('championship', 0.5920431613922119),\n",
       " ('teams', 0.5652551651000977),\n",
       " ('tournament', 0.5589582920074463),\n",
       " ('crew', 0.5536748170852661),\n",
       " ('1-0', 0.547774612903595),\n",
       " ('leaders', 0.5429645776748657),\n",
       " ('yankees', 0.5413712859153748),\n",
       " ('match', 0.5280784368515015),\n",
       " ('players', 0.5245149731636047)]"
      ]
     },
     "execution_count": 29,
     "metadata": {},
     "output_type": "execute_result"
    }
   ],
   "source": [
    "tweet_word2vec.wv.most_similar('team')"
   ]
  },
  {
   "cell_type": "markdown",
   "metadata": {},
   "source": [
    "We can see that the word2vec model does a good job of grouping similar words together. If we look only at the vector representation of one the words we will see that it is a vector of length 200 (since we trained it that way). Also we have to remember that words that are does not occur more than 10 times are rejected"
   ]
  },
  {
   "cell_type": "code",
   "execution_count": 30,
   "metadata": {},
   "outputs": [],
   "source": [
    "tweet_word2vec.wv['good'];"
   ]
  },
  {
   "cell_type": "markdown",
   "metadata": {},
   "source": [
    "In order to train the data we need to convert each of the tweet into vectors. In order to do this we will add all the vector equivalent of words in a given tweet mutiplied by the weight carried by the word, which we can relate to the frequency of occurrence of the words in the corpus. Once we have the vector equivalent of the tweets we can then start building the model for sentiment analysis."
   ]
  },
  {
   "cell_type": "code",
   "execution_count": 31,
   "metadata": {},
   "outputs": [],
   "source": [
    "#Getting the weights of each word\n",
    "from sklearn.feature_extraction.text import TfidfVectorizer"
   ]
  },
  {
   "cell_type": "code",
   "execution_count": 32,
   "metadata": {},
   "outputs": [],
   "source": [
    "vectorizer = TfidfVectorizer(analyzer=lambda x:x, min_df=10)"
   ]
  },
  {
   "cell_type": "code",
   "execution_count": 33,
   "metadata": {},
   "outputs": [
    {
     "data": {
      "text/plain": [
       "<640624x20993 sparse matrix of type '<class 'numpy.float64'>'\n",
       "\twith 8306130 stored elements in Compressed Sparse Row format>"
      ]
     },
     "execution_count": 33,
     "metadata": {},
     "output_type": "execute_result"
    }
   ],
   "source": [
    "vectorizer.fit_transform([x.words for x in train_taggedtweets])"
   ]
  },
  {
   "cell_type": "code",
   "execution_count": 34,
   "metadata": {},
   "outputs": [],
   "source": [
    "tfidf = dict(zip(vectorizer.get_feature_names(), vectorizer.idf_))"
   ]
  },
  {
   "cell_type": "markdown",
   "metadata": {},
   "source": [
    "Now we are fully equipped to make a vector equivalent of all tweets"
   ]
  },
  {
   "cell_type": "code",
   "execution_count": 35,
   "metadata": {},
   "outputs": [],
   "source": [
    "def build_vectors(tweet, tfidf):\n",
    "    tweet_vector = np.zeros(200).reshape(1, 200)\n",
    "    count = 0.0\n",
    "    for word in tweet:\n",
    "        try:\n",
    "            tweet_vector+=tfidf[word]*tweet_word2vec.wv[word].reshape(1, 200)\n",
    "            \n",
    "        except:\n",
    "            continue\n",
    "        count+=1\n",
    "    if count !=0:\n",
    "        return tweet_vector/count\n",
    "    else:\n",
    "        return tweet_vector"
   ]
  },
  {
   "cell_type": "code",
   "execution_count": 36,
   "metadata": {},
   "outputs": [
    {
     "data": {
      "application/vnd.jupyter.widget-view+json": {
       "model_id": "9f2673b57e2145dd8ff433e7264ac0fd",
       "version_major": 2,
       "version_minor": 0
      },
      "text/plain": [
       "HBox(children=(IntProgress(value=0, max=640624), HTML(value='')))"
      ]
     },
     "metadata": {},
     "output_type": "display_data"
    },
    {
     "name": "stdout",
     "output_type": "stream",
     "text": [
      "\n"
     ]
    }
   ],
   "source": [
    "vectorized_tweet = []\n",
    "for tweet in tqdm_notebook(X_train):\n",
    "    vectorized_tweet.append(build_vectors(tweet, tfidf))\n",
    "\n",
    "        "
   ]
  },
  {
   "cell_type": "code",
   "execution_count": 37,
   "metadata": {},
   "outputs": [],
   "source": [
    "train_tweets = np.array(vectorized_tweet).reshape(-1, 200)"
   ]
  },
  {
   "cell_type": "code",
   "execution_count": 38,
   "metadata": {},
   "outputs": [
    {
     "data": {
      "text/plain": [
       "(640624, 200)"
      ]
     },
     "execution_count": 38,
     "metadata": {},
     "output_type": "execute_result"
    }
   ],
   "source": [
    "train_tweets.shape"
   ]
  },
  {
   "cell_type": "code",
   "execution_count": 39,
   "metadata": {},
   "outputs": [
    {
     "data": {
      "application/vnd.jupyter.widget-view+json": {
       "model_id": "957b7ca35f4641669873fd8fb6fc1544",
       "version_major": 2,
       "version_minor": 0
      },
      "text/plain": [
       "HBox(children=(IntProgress(value=0, max=160156), HTML(value='')))"
      ]
     },
     "metadata": {},
     "output_type": "display_data"
    },
    {
     "name": "stdout",
     "output_type": "stream",
     "text": [
      "\n"
     ]
    }
   ],
   "source": [
    "test_tweets = []\n",
    "for tweet in tqdm_notebook(X_test):\n",
    "    test_tweets.append(build_vectors(tweet, tfidf))"
   ]
  },
  {
   "cell_type": "code",
   "execution_count": 40,
   "metadata": {},
   "outputs": [],
   "source": [
    "test_tweets = np.array(test_tweets).reshape(-1, 200)"
   ]
  },
  {
   "cell_type": "code",
   "execution_count": 41,
   "metadata": {},
   "outputs": [
    {
     "data": {
      "text/plain": [
       "(160156, 200)"
      ]
     },
     "execution_count": 41,
     "metadata": {},
     "output_type": "execute_result"
    }
   ],
   "source": [
    "test_tweets.shape"
   ]
  },
  {
   "cell_type": "markdown",
   "metadata": {},
   "source": [
    "Let us use an XGBoost classifier to perform a classification. We do not require neural nets unless we are using special networks such as RNN "
   ]
  },
  {
   "cell_type": "code",
   "execution_count": 42,
   "metadata": {},
   "outputs": [],
   "source": [
    "#Let us scale the data in both training and test\n",
    "from sklearn.preprocessing import StandardScaler, MinMaxScaler\n",
    "sc = MinMaxScaler()\n",
    "x_train = train_tweets\n",
    "x_test = test_tweets\n",
    "#We do not need to scale for xgboost\n",
    "#reshaping the data for LSTMs\n",
    "#x_train_re = x_train.reshape(-1, 200, 1)\n",
    "#x_test_re = x_test.reshape(-1, 200, 1)"
   ]
  },
  {
   "cell_type": "code",
   "execution_count": 43,
   "metadata": {},
   "outputs": [],
   "source": [
    "#print('Shape of x_train: ', x_train_re.shape)\n",
    "#print('Shape of x_test: ', x_test_re.shape)\n"
   ]
  },
  {
   "cell_type": "code",
   "execution_count": 45,
   "metadata": {},
   "outputs": [],
   "source": [
    "y_train = np.array(y_train).flatten()\n",
    "y_test = np.array(y_test).flatten()"
   ]
  },
  {
   "cell_type": "code",
   "execution_count": 46,
   "metadata": {},
   "outputs": [
    {
     "data": {
      "text/plain": [
       "(640624, 1)"
      ]
     },
     "execution_count": 46,
     "metadata": {},
     "output_type": "execute_result"
    }
   ],
   "source": [
    "np.array(y_train).reshape(-1,1).shape"
   ]
  },
  {
   "cell_type": "code",
   "execution_count": 47,
   "metadata": {},
   "outputs": [],
   "source": [
    "from xgboost import XGBClassifier"
   ]
  },
  {
   "cell_type": "code",
   "execution_count": 48,
   "metadata": {},
   "outputs": [],
   "source": [
    "model = XGBClassifier(max_depth=5,\n",
    "                      n_estimators=500, \n",
    "                      objective = 'gpu:binary:logistic',\n",
    "                      n_jobs=-1, \n",
    "                      kvargs = {'tree_method':'gpu_exact'}, )"
   ]
  },
  {
   "cell_type": "code",
   "execution_count": 49,
   "metadata": {},
   "outputs": [
    {
     "name": "stdout",
     "output_type": "stream",
     "text": [
      "[0]\tvalidation_0-error:0.306682\tvalidation_1-error:0.310291\n",
      "[1]\tvalidation_0-error:0.299545\tvalidation_1-error:0.302948\n",
      "[2]\tvalidation_0-error:0.294567\tvalidation_1-error:0.297485\n",
      "[3]\tvalidation_0-error:0.290576\tvalidation_1-error:0.294076\n",
      "[4]\tvalidation_0-error:0.287833\tvalidation_1-error:0.290923\n",
      "[5]\tvalidation_0-error:0.284921\tvalidation_1-error:0.287595\n",
      "[6]\tvalidation_0-error:0.282417\tvalidation_1-error:0.284754\n",
      "[7]\tvalidation_0-error:0.279805\tvalidation_1-error:0.282606\n",
      "[8]\tvalidation_0-error:0.276613\tvalidation_1-error:0.279758\n",
      "[9]\tvalidation_0-error:0.274877\tvalidation_1-error:0.277511\n",
      "[10]\tvalidation_0-error:0.272946\tvalidation_1-error:0.275968\n",
      "[11]\tvalidation_0-error:0.270775\tvalidation_1-error:0.274582\n",
      "[12]\tvalidation_0-error:0.268932\tvalidation_1-error:0.272116\n",
      "[13]\tvalidation_0-error:0.26677\tvalidation_1-error:0.269924\n",
      "[14]\tvalidation_0-error:0.265376\tvalidation_1-error:0.268763\n",
      "[15]\tvalidation_0-error:0.263626\tvalidation_1-error:0.266946\n",
      "[16]\tvalidation_0-error:0.262263\tvalidation_1-error:0.265291\n",
      "[17]\tvalidation_0-error:0.260349\tvalidation_1-error:0.263849\n",
      "[18]\tvalidation_0-error:0.259135\tvalidation_1-error:0.261789\n",
      "[19]\tvalidation_0-error:0.25763\tvalidation_1-error:0.260914\n",
      "[20]\tvalidation_0-error:0.256584\tvalidation_1-error:0.259765\n",
      "[21]\tvalidation_0-error:0.255251\tvalidation_1-error:0.258579\n",
      "[22]\tvalidation_0-error:0.254163\tvalidation_1-error:0.257493\n",
      "[23]\tvalidation_0-error:0.252871\tvalidation_1-error:0.256425\n",
      "[24]\tvalidation_0-error:0.251968\tvalidation_1-error:0.255301\n",
      "[25]\tvalidation_0-error:0.25088\tvalidation_1-error:0.254021\n",
      "[26]\tvalidation_0-error:0.249941\tvalidation_1-error:0.252985\n",
      "[27]\tvalidation_0-error:0.249118\tvalidation_1-error:0.252179\n",
      "[28]\tvalidation_0-error:0.248166\tvalidation_1-error:0.251224\n",
      "[29]\tvalidation_0-error:0.247045\tvalidation_1-error:0.250031\n",
      "[30]\tvalidation_0-error:0.246049\tvalidation_1-error:0.2495\n",
      "[31]\tvalidation_0-error:0.245328\tvalidation_1-error:0.248239\n",
      "[32]\tvalidation_0-error:0.244548\tvalidation_1-error:0.247484\n",
      "[33]\tvalidation_0-error:0.243631\tvalidation_1-error:0.246535\n",
      "[34]\tvalidation_0-error:0.242695\tvalidation_1-error:0.245573\n",
      "[35]\tvalidation_0-error:0.24181\tvalidation_1-error:0.24443\n",
      "[36]\tvalidation_0-error:0.241026\tvalidation_1-error:0.243825\n",
      "[37]\tvalidation_0-error:0.240403\tvalidation_1-error:0.2435\n",
      "[38]\tvalidation_0-error:0.239563\tvalidation_1-error:0.242389\n",
      "[39]\tvalidation_0-error:0.238847\tvalidation_1-error:0.241839\n",
      "[40]\tvalidation_0-error:0.238269\tvalidation_1-error:0.241458\n",
      "[41]\tvalidation_0-error:0.237492\tvalidation_1-error:0.240853\n",
      "[42]\tvalidation_0-error:0.236974\tvalidation_1-error:0.240259\n",
      "[43]\tvalidation_0-error:0.236399\tvalidation_1-error:0.239579\n",
      "[44]\tvalidation_0-error:0.235764\tvalidation_1-error:0.239098\n",
      "[45]\tvalidation_0-error:0.235122\tvalidation_1-error:0.238524\n",
      "[46]\tvalidation_0-error:0.234621\tvalidation_1-error:0.238311\n",
      "[47]\tvalidation_0-error:0.233795\tvalidation_1-error:0.237344\n",
      "[48]\tvalidation_0-error:0.233346\tvalidation_1-error:0.236894\n",
      "[49]\tvalidation_0-error:0.232611\tvalidation_1-error:0.236407\n",
      "[50]\tvalidation_0-error:0.232102\tvalidation_1-error:0.235914\n",
      "[51]\tvalidation_0-error:0.231685\tvalidation_1-error:0.235545\n",
      "[52]\tvalidation_0-error:0.230934\tvalidation_1-error:0.235121\n",
      "[53]\tvalidation_0-error:0.230329\tvalidation_1-error:0.23484\n",
      "[54]\tvalidation_0-error:0.229901\tvalidation_1-error:0.234109\n",
      "[55]\tvalidation_0-error:0.229297\tvalidation_1-error:0.233853\n",
      "[56]\tvalidation_0-error:0.228769\tvalidation_1-error:0.233585\n",
      "[57]\tvalidation_0-error:0.22826\tvalidation_1-error:0.233035\n",
      "[58]\tvalidation_0-error:0.227831\tvalidation_1-error:0.232723\n",
      "[59]\tvalidation_0-error:0.227466\tvalidation_1-error:0.23218\n",
      "[60]\tvalidation_0-error:0.227082\tvalidation_1-error:0.23178\n",
      "[61]\tvalidation_0-error:0.226631\tvalidation_1-error:0.231331\n",
      "[62]\tvalidation_0-error:0.226307\tvalidation_1-error:0.230744\n",
      "[63]\tvalidation_0-error:0.225858\tvalidation_1-error:0.230444\n",
      "[64]\tvalidation_0-error:0.225307\tvalidation_1-error:0.230144\n",
      "[65]\tvalidation_0-error:0.225126\tvalidation_1-error:0.229945\n",
      "[66]\tvalidation_0-error:0.224664\tvalidation_1-error:0.229589\n",
      "[67]\tvalidation_0-error:0.224328\tvalidation_1-error:0.229195\n",
      "[68]\tvalidation_0-error:0.223824\tvalidation_1-error:0.228964\n",
      "[69]\tvalidation_0-error:0.223415\tvalidation_1-error:0.228646\n",
      "[70]\tvalidation_0-error:0.223058\tvalidation_1-error:0.228334\n",
      "[71]\tvalidation_0-error:0.222708\tvalidation_1-error:0.228084\n",
      "[72]\tvalidation_0-error:0.222393\tvalidation_1-error:0.227609\n",
      "[73]\tvalidation_0-error:0.222152\tvalidation_1-error:0.227403\n",
      "[74]\tvalidation_0-error:0.221781\tvalidation_1-error:0.227322\n",
      "[75]\tvalidation_0-error:0.221434\tvalidation_1-error:0.227029\n",
      "[76]\tvalidation_0-error:0.220974\tvalidation_1-error:0.226748\n",
      "[77]\tvalidation_0-error:0.220566\tvalidation_1-error:0.226492\n",
      "[78]\tvalidation_0-error:0.220213\tvalidation_1-error:0.226398\n",
      "[79]\tvalidation_0-error:0.219982\tvalidation_1-error:0.225861\n",
      "[80]\tvalidation_0-error:0.219523\tvalidation_1-error:0.225568\n",
      "[81]\tvalidation_0-error:0.219155\tvalidation_1-error:0.225424\n",
      "[82]\tvalidation_0-error:0.218738\tvalidation_1-error:0.225106\n",
      "[83]\tvalidation_0-error:0.218398\tvalidation_1-error:0.225043\n",
      "[84]\tvalidation_0-error:0.218156\tvalidation_1-error:0.224712\n",
      "[85]\tvalidation_0-error:0.217789\tvalidation_1-error:0.224362\n",
      "[86]\tvalidation_0-error:0.217539\tvalidation_1-error:0.224106\n",
      "[87]\tvalidation_0-error:0.217219\tvalidation_1-error:0.223751\n",
      "[88]\tvalidation_0-error:0.216896\tvalidation_1-error:0.223432\n",
      "[89]\tvalidation_0-error:0.21664\tvalidation_1-error:0.223182\n",
      "[90]\tvalidation_0-error:0.216414\tvalidation_1-error:0.22297\n",
      "[91]\tvalidation_0-error:0.216167\tvalidation_1-error:0.222789\n",
      "[92]\tvalidation_0-error:0.215882\tvalidation_1-error:0.222583\n",
      "[93]\tvalidation_0-error:0.21568\tvalidation_1-error:0.222371\n",
      "[94]\tvalidation_0-error:0.215427\tvalidation_1-error:0.222321\n",
      "[95]\tvalidation_0-error:0.215186\tvalidation_1-error:0.222121\n",
      "[96]\tvalidation_0-error:0.215009\tvalidation_1-error:0.22194\n",
      "[97]\tvalidation_0-error:0.214741\tvalidation_1-error:0.221628\n",
      "[98]\tvalidation_0-error:0.21446\tvalidation_1-error:0.221696\n",
      "[99]\tvalidation_0-error:0.214254\tvalidation_1-error:0.221309\n",
      "[100]\tvalidation_0-error:0.214076\tvalidation_1-error:0.220966\n",
      "[101]\tvalidation_0-error:0.213713\tvalidation_1-error:0.220704\n",
      "[102]\tvalidation_0-error:0.213433\tvalidation_1-error:0.220572\n",
      "[103]\tvalidation_0-error:0.21325\tvalidation_1-error:0.220491\n",
      "[104]\tvalidation_0-error:0.213059\tvalidation_1-error:0.220248\n",
      "[105]\tvalidation_0-error:0.212919\tvalidation_1-error:0.219967\n",
      "[106]\tvalidation_0-error:0.21266\tvalidation_1-error:0.219886\n",
      "[107]\tvalidation_0-error:0.212502\tvalidation_1-error:0.219673\n",
      "[108]\tvalidation_0-error:0.212229\tvalidation_1-error:0.219498\n",
      "[109]\tvalidation_0-error:0.212017\tvalidation_1-error:0.219361\n",
      "[110]\tvalidation_0-error:0.211884\tvalidation_1-error:0.219055\n",
      "[111]\tvalidation_0-error:0.211667\tvalidation_1-error:0.218818\n",
      "[112]\tvalidation_0-error:0.211513\tvalidation_1-error:0.218774\n",
      "[113]\tvalidation_0-error:0.211249\tvalidation_1-error:0.218687\n",
      "[114]\tvalidation_0-error:0.210949\tvalidation_1-error:0.218531\n",
      "[115]\tvalidation_0-error:0.210634\tvalidation_1-error:0.218137\n",
      "[116]\tvalidation_0-error:0.210376\tvalidation_1-error:0.218056\n",
      "[117]\tvalidation_0-error:0.21024\tvalidation_1-error:0.217944\n",
      "[118]\tvalidation_0-error:0.210178\tvalidation_1-error:0.217756\n",
      "[119]\tvalidation_0-error:0.209934\tvalidation_1-error:0.217769\n",
      "[120]\tvalidation_0-error:0.209639\tvalidation_1-error:0.217713\n",
      "[121]\tvalidation_0-error:0.209538\tvalidation_1-error:0.217513\n",
      "[122]\tvalidation_0-error:0.209297\tvalidation_1-error:0.217257\n",
      "[123]\tvalidation_0-error:0.209146\tvalidation_1-error:0.217176\n",
      "[124]\tvalidation_0-error:0.208881\tvalidation_1-error:0.217007\n",
      "[125]\tvalidation_0-error:0.208654\tvalidation_1-error:0.21662\n",
      "[126]\tvalidation_0-error:0.208395\tvalidation_1-error:0.216545\n",
      "[127]\tvalidation_0-error:0.208313\tvalidation_1-error:0.216395\n",
      "[128]\tvalidation_0-error:0.208194\tvalidation_1-error:0.216389\n",
      "[129]\tvalidation_0-error:0.20803\tvalidation_1-error:0.216202\n",
      "[130]\tvalidation_0-error:0.207863\tvalidation_1-error:0.216052\n",
      "[131]\tvalidation_0-error:0.207677\tvalidation_1-error:0.215971\n",
      "[132]\tvalidation_0-error:0.207381\tvalidation_1-error:0.215939\n",
      "[133]\tvalidation_0-error:0.207185\tvalidation_1-error:0.215827\n",
      "[134]\tvalidation_0-error:0.207061\tvalidation_1-error:0.215584\n"
     ]
    },
    {
     "name": "stdout",
     "output_type": "stream",
     "text": [
      "[135]\tvalidation_0-error:0.206809\tvalidation_1-error:0.21544\n",
      "[136]\tvalidation_0-error:0.206661\tvalidation_1-error:0.215328\n",
      "[137]\tvalidation_0-error:0.206522\tvalidation_1-error:0.215334\n",
      "[138]\tvalidation_0-error:0.206357\tvalidation_1-error:0.21504\n",
      "[139]\tvalidation_0-error:0.206254\tvalidation_1-error:0.214947\n",
      "[140]\tvalidation_0-error:0.206099\tvalidation_1-error:0.214859\n",
      "[141]\tvalidation_0-error:0.205846\tvalidation_1-error:0.214672\n",
      "[142]\tvalidation_0-error:0.205639\tvalidation_1-error:0.214535\n",
      "[143]\tvalidation_0-error:0.205529\tvalidation_1-error:0.214397\n",
      "[144]\tvalidation_0-error:0.205336\tvalidation_1-error:0.214316\n",
      "[145]\tvalidation_0-error:0.205169\tvalidation_1-error:0.214054\n",
      "[146]\tvalidation_0-error:0.205027\tvalidation_1-error:0.214116\n",
      "[147]\tvalidation_0-error:0.204981\tvalidation_1-error:0.213885\n",
      "[148]\tvalidation_0-error:0.204846\tvalidation_1-error:0.213841\n",
      "[149]\tvalidation_0-error:0.204616\tvalidation_1-error:0.213748\n",
      "[150]\tvalidation_0-error:0.204457\tvalidation_1-error:0.213735\n",
      "[151]\tvalidation_0-error:0.204327\tvalidation_1-error:0.213604\n",
      "[152]\tvalidation_0-error:0.20419\tvalidation_1-error:0.213498\n",
      "[153]\tvalidation_0-error:0.203996\tvalidation_1-error:0.213423\n",
      "[154]\tvalidation_0-error:0.203951\tvalidation_1-error:0.213248\n",
      "[155]\tvalidation_0-error:0.203772\tvalidation_1-error:0.213067\n",
      "[156]\tvalidation_0-error:0.203639\tvalidation_1-error:0.213036\n",
      "[157]\tvalidation_0-error:0.203541\tvalidation_1-error:0.212824\n",
      "[158]\tvalidation_0-error:0.203389\tvalidation_1-error:0.212874\n",
      "[159]\tvalidation_0-error:0.203143\tvalidation_1-error:0.212793\n",
      "[160]\tvalidation_0-error:0.202985\tvalidation_1-error:0.212543\n",
      "[161]\tvalidation_0-error:0.20281\tvalidation_1-error:0.212605\n",
      "[162]\tvalidation_0-error:0.202645\tvalidation_1-error:0.212374\n",
      "[163]\tvalidation_0-error:0.202492\tvalidation_1-error:0.212349\n",
      "[164]\tvalidation_0-error:0.20244\tvalidation_1-error:0.212312\n",
      "[165]\tvalidation_0-error:0.202325\tvalidation_1-error:0.212299\n",
      "[166]\tvalidation_0-error:0.202189\tvalidation_1-error:0.212162\n",
      "[167]\tvalidation_0-error:0.202001\tvalidation_1-error:0.212168\n",
      "[168]\tvalidation_0-error:0.201845\tvalidation_1-error:0.212106\n",
      "[169]\tvalidation_0-error:0.20166\tvalidation_1-error:0.211837\n",
      "[170]\tvalidation_0-error:0.201536\tvalidation_1-error:0.211694\n",
      "[171]\tvalidation_0-error:0.201454\tvalidation_1-error:0.2115\n",
      "[172]\tvalidation_0-error:0.201357\tvalidation_1-error:0.211425\n",
      "[173]\tvalidation_0-error:0.201163\tvalidation_1-error:0.211394\n",
      "[174]\tvalidation_0-error:0.201121\tvalidation_1-error:0.211375\n",
      "[175]\tvalidation_0-error:0.20099\tvalidation_1-error:0.211182\n",
      "[176]\tvalidation_0-error:0.20092\tvalidation_1-error:0.211188\n",
      "[177]\tvalidation_0-error:0.200821\tvalidation_1-error:0.211219\n",
      "[178]\tvalidation_0-error:0.200653\tvalidation_1-error:0.211356\n",
      "[179]\tvalidation_0-error:0.200509\tvalidation_1-error:0.210938\n",
      "[180]\tvalidation_0-error:0.200362\tvalidation_1-error:0.211013\n",
      "[181]\tvalidation_0-error:0.20023\tvalidation_1-error:0.210994\n",
      "[182]\tvalidation_0-error:0.200189\tvalidation_1-error:0.210844\n",
      "[183]\tvalidation_0-error:0.20008\tvalidation_1-error:0.210776\n",
      "[184]\tvalidation_0-error:0.199913\tvalidation_1-error:0.210776\n",
      "[185]\tvalidation_0-error:0.199772\tvalidation_1-error:0.210588\n",
      "[186]\tvalidation_0-error:0.199673\tvalidation_1-error:0.210526\n",
      "[187]\tvalidation_0-error:0.19958\tvalidation_1-error:0.210526\n",
      "[188]\tvalidation_0-error:0.199493\tvalidation_1-error:0.210351\n",
      "[189]\tvalidation_0-error:0.199398\tvalidation_1-error:0.210176\n",
      "[190]\tvalidation_0-error:0.199212\tvalidation_1-error:0.210089\n",
      "[191]\tvalidation_0-error:0.1992\tvalidation_1-error:0.210145\n",
      "[192]\tvalidation_0-error:0.199051\tvalidation_1-error:0.210201\n",
      "[193]\tvalidation_0-error:0.198944\tvalidation_1-error:0.210045\n",
      "[194]\tvalidation_0-error:0.198789\tvalidation_1-error:0.209877\n",
      "[195]\tvalidation_0-error:0.198711\tvalidation_1-error:0.209758\n",
      "[196]\tvalidation_0-error:0.198703\tvalidation_1-error:0.209627\n",
      "[197]\tvalidation_0-error:0.198585\tvalidation_1-error:0.209489\n",
      "[198]\tvalidation_0-error:0.198478\tvalidation_1-error:0.209402\n",
      "[199]\tvalidation_0-error:0.198364\tvalidation_1-error:0.209302\n",
      "[200]\tvalidation_0-error:0.198176\tvalidation_1-error:0.20924\n",
      "[201]\tvalidation_0-error:0.198163\tvalidation_1-error:0.209171\n",
      "[202]\tvalidation_0-error:0.198044\tvalidation_1-error:0.209258\n",
      "[203]\tvalidation_0-error:0.197924\tvalidation_1-error:0.209171\n",
      "[204]\tvalidation_0-error:0.197815\tvalidation_1-error:0.20899\n",
      "[205]\tvalidation_0-error:0.197712\tvalidation_1-error:0.208934\n",
      "[206]\tvalidation_0-error:0.197637\tvalidation_1-error:0.208846\n",
      "[207]\tvalidation_0-error:0.197548\tvalidation_1-error:0.208834\n",
      "[208]\tvalidation_0-error:0.197548\tvalidation_1-error:0.208809\n",
      "[209]\tvalidation_0-error:0.197384\tvalidation_1-error:0.208703\n",
      "[210]\tvalidation_0-error:0.197334\tvalidation_1-error:0.208597\n",
      "[211]\tvalidation_0-error:0.197201\tvalidation_1-error:0.208372\n",
      "[212]\tvalidation_0-error:0.197142\tvalidation_1-error:0.208353\n",
      "[213]\tvalidation_0-error:0.197003\tvalidation_1-error:0.208353\n",
      "[214]\tvalidation_0-error:0.196961\tvalidation_1-error:0.208378\n",
      "[215]\tvalidation_0-error:0.196933\tvalidation_1-error:0.208078\n",
      "[216]\tvalidation_0-error:0.196786\tvalidation_1-error:0.207972\n",
      "[217]\tvalidation_0-error:0.196663\tvalidation_1-error:0.208128\n",
      "[218]\tvalidation_0-error:0.196426\tvalidation_1-error:0.207854\n",
      "[219]\tvalidation_0-error:0.196426\tvalidation_1-error:0.208035\n",
      "[220]\tvalidation_0-error:0.19634\tvalidation_1-error:0.20786\n",
      "[221]\tvalidation_0-error:0.196313\tvalidation_1-error:0.20786\n",
      "[222]\tvalidation_0-error:0.19621\tvalidation_1-error:0.207804\n",
      "[223]\tvalidation_0-error:0.196252\tvalidation_1-error:0.20776\n",
      "[224]\tvalidation_0-error:0.196071\tvalidation_1-error:0.207554\n",
      "[225]\tvalidation_0-error:0.195936\tvalidation_1-error:0.207485\n",
      "[226]\tvalidation_0-error:0.195837\tvalidation_1-error:0.207354\n",
      "[227]\tvalidation_0-error:0.195719\tvalidation_1-error:0.207448\n",
      "[228]\tvalidation_0-error:0.195639\tvalidation_1-error:0.207335\n",
      "[229]\tvalidation_0-error:0.195503\tvalidation_1-error:0.207111\n",
      "[230]\tvalidation_0-error:0.195425\tvalidation_1-error:0.206954\n",
      "[231]\tvalidation_0-error:0.195391\tvalidation_1-error:0.206948\n",
      "[232]\tvalidation_0-error:0.195277\tvalidation_1-error:0.206898\n",
      "[233]\tvalidation_0-error:0.195136\tvalidation_1-error:0.206773\n",
      "[234]\tvalidation_0-error:0.195004\tvalidation_1-error:0.206505\n",
      "[235]\tvalidation_0-error:0.194912\tvalidation_1-error:0.206517\n",
      "[236]\tvalidation_0-error:0.194738\tvalidation_1-error:0.206686\n",
      "[237]\tvalidation_0-error:0.194673\tvalidation_1-error:0.206642\n",
      "[238]\tvalidation_0-error:0.194599\tvalidation_1-error:0.20678\n",
      "[239]\tvalidation_0-error:0.194518\tvalidation_1-error:0.206855\n",
      "[240]\tvalidation_0-error:0.194368\tvalidation_1-error:0.206742\n",
      "[241]\tvalidation_0-error:0.194239\tvalidation_1-error:0.206805\n",
      "[242]\tvalidation_0-error:0.1942\tvalidation_1-error:0.206561\n",
      "[243]\tvalidation_0-error:0.194108\tvalidation_1-error:0.206655\n",
      "[244]\tvalidation_0-error:0.193992\tvalidation_1-error:0.206436\n",
      "[245]\tvalidation_0-error:0.193908\tvalidation_1-error:0.206399\n",
      "[246]\tvalidation_0-error:0.193811\tvalidation_1-error:0.20648\n",
      "[247]\tvalidation_0-error:0.193783\tvalidation_1-error:0.206368\n",
      "[248]\tvalidation_0-error:0.193661\tvalidation_1-error:0.206255\n",
      "[249]\tvalidation_0-error:0.193713\tvalidation_1-error:0.206274\n",
      "[250]\tvalidation_0-error:0.193546\tvalidation_1-error:0.206155\n",
      "[251]\tvalidation_0-error:0.193516\tvalidation_1-error:0.206018\n",
      "[252]\tvalidation_0-error:0.193463\tvalidation_1-error:0.205974\n",
      "[253]\tvalidation_0-error:0.193404\tvalidation_1-error:0.205756\n",
      "[254]\tvalidation_0-error:0.193335\tvalidation_1-error:0.205774\n",
      "[255]\tvalidation_0-error:0.193173\tvalidation_1-error:0.205887\n",
      "[256]\tvalidation_0-error:0.193071\tvalidation_1-error:0.205806\n",
      "[257]\tvalidation_0-error:0.192987\tvalidation_1-error:0.205699\n",
      "[258]\tvalidation_0-error:0.192928\tvalidation_1-error:0.205649\n",
      "[259]\tvalidation_0-error:0.192851\tvalidation_1-error:0.205562\n",
      "[260]\tvalidation_0-error:0.192781\tvalidation_1-error:0.205468\n",
      "[261]\tvalidation_0-error:0.192714\tvalidation_1-error:0.205393\n",
      "[262]\tvalidation_0-error:0.192612\tvalidation_1-error:0.205475\n",
      "[263]\tvalidation_0-error:0.192564\tvalidation_1-error:0.205525\n",
      "[264]\tvalidation_0-error:0.192494\tvalidation_1-error:0.205512\n",
      "[265]\tvalidation_0-error:0.192472\tvalidation_1-error:0.205431\n",
      "[266]\tvalidation_0-error:0.192344\tvalidation_1-error:0.2052\n",
      "[267]\tvalidation_0-error:0.192192\tvalidation_1-error:0.205063\n"
     ]
    },
    {
     "name": "stdout",
     "output_type": "stream",
     "text": [
      "[268]\tvalidation_0-error:0.192066\tvalidation_1-error:0.205006\n",
      "[269]\tvalidation_0-error:0.19198\tvalidation_1-error:0.204869\n",
      "[270]\tvalidation_0-error:0.191974\tvalidation_1-error:0.204838\n",
      "[271]\tvalidation_0-error:0.191875\tvalidation_1-error:0.2049\n",
      "[272]\tvalidation_0-error:0.191786\tvalidation_1-error:0.204925\n",
      "[273]\tvalidation_0-error:0.191769\tvalidation_1-error:0.204713\n",
      "[274]\tvalidation_0-error:0.191693\tvalidation_1-error:0.204669\n",
      "[275]\tvalidation_0-error:0.19163\tvalidation_1-error:0.204563\n",
      "[276]\tvalidation_0-error:0.191554\tvalidation_1-error:0.204594\n",
      "[277]\tvalidation_0-error:0.191493\tvalidation_1-error:0.204513\n",
      "[278]\tvalidation_0-error:0.191427\tvalidation_1-error:0.204538\n",
      "[279]\tvalidation_0-error:0.191346\tvalidation_1-error:0.204332\n",
      "[280]\tvalidation_0-error:0.191251\tvalidation_1-error:0.204207\n",
      "[281]\tvalidation_0-error:0.191225\tvalidation_1-error:0.204113\n",
      "[282]\tvalidation_0-error:0.191092\tvalidation_1-error:0.204307\n",
      "[283]\tvalidation_0-error:0.190983\tvalidation_1-error:0.204245\n",
      "[284]\tvalidation_0-error:0.190914\tvalidation_1-error:0.204145\n",
      "[285]\tvalidation_0-error:0.190844\tvalidation_1-error:0.204039\n",
      "[286]\tvalidation_0-error:0.190816\tvalidation_1-error:0.204007\n",
      "[287]\tvalidation_0-error:0.190737\tvalidation_1-error:0.203989\n",
      "[288]\tvalidation_0-error:0.190688\tvalidation_1-error:0.20402\n",
      "[289]\tvalidation_0-error:0.190514\tvalidation_1-error:0.204026\n",
      "[290]\tvalidation_0-error:0.190447\tvalidation_1-error:0.203895\n",
      "[291]\tvalidation_0-error:0.190335\tvalidation_1-error:0.203845\n",
      "[292]\tvalidation_0-error:0.190261\tvalidation_1-error:0.203739\n",
      "[293]\tvalidation_0-error:0.190244\tvalidation_1-error:0.203733\n",
      "[294]\tvalidation_0-error:0.19014\tvalidation_1-error:0.203695\n",
      "[295]\tvalidation_0-error:0.190152\tvalidation_1-error:0.203527\n",
      "[296]\tvalidation_0-error:0.19004\tvalidation_1-error:0.203639\n",
      "[297]\tvalidation_0-error:0.189924\tvalidation_1-error:0.203558\n",
      "[298]\tvalidation_0-error:0.189852\tvalidation_1-error:0.203539\n",
      "[299]\tvalidation_0-error:0.189787\tvalidation_1-error:0.203433\n",
      "[300]\tvalidation_0-error:0.189692\tvalidation_1-error:0.203302\n",
      "[301]\tvalidation_0-error:0.189614\tvalidation_1-error:0.203377\n",
      "[302]\tvalidation_0-error:0.189539\tvalidation_1-error:0.203177\n",
      "[303]\tvalidation_0-error:0.189517\tvalidation_1-error:0.203308\n",
      "[304]\tvalidation_0-error:0.189443\tvalidation_1-error:0.203065\n",
      "[305]\tvalidation_0-error:0.18939\tvalidation_1-error:0.202983\n",
      "[306]\tvalidation_0-error:0.189336\tvalidation_1-error:0.203114\n",
      "[307]\tvalidation_0-error:0.189267\tvalidation_1-error:0.203027\n",
      "[308]\tvalidation_0-error:0.189223\tvalidation_1-error:0.202896\n",
      "[309]\tvalidation_0-error:0.189175\tvalidation_1-error:0.20284\n",
      "[310]\tvalidation_0-error:0.189073\tvalidation_1-error:0.202734\n",
      "[311]\tvalidation_0-error:0.189058\tvalidation_1-error:0.202734\n",
      "[312]\tvalidation_0-error:0.188853\tvalidation_1-error:0.202715\n",
      "[313]\tvalidation_0-error:0.188763\tvalidation_1-error:0.202584\n",
      "[314]\tvalidation_0-error:0.188641\tvalidation_1-error:0.202652\n",
      "[315]\tvalidation_0-error:0.18866\tvalidation_1-error:0.202659\n",
      "[316]\tvalidation_0-error:0.188568\tvalidation_1-error:0.20249\n",
      "[317]\tvalidation_0-error:0.188483\tvalidation_1-error:0.202365\n",
      "[318]\tvalidation_0-error:0.188401\tvalidation_1-error:0.202365\n",
      "[319]\tvalidation_0-error:0.188344\tvalidation_1-error:0.202234\n",
      "[320]\tvalidation_0-error:0.188313\tvalidation_1-error:0.202228\n",
      "[321]\tvalidation_0-error:0.188237\tvalidation_1-error:0.202203\n",
      "[322]\tvalidation_0-error:0.188206\tvalidation_1-error:0.202228\n",
      "[323]\tvalidation_0-error:0.188088\tvalidation_1-error:0.202215\n",
      "[324]\tvalidation_0-error:0.188053\tvalidation_1-error:0.202228\n",
      "[325]\tvalidation_0-error:0.187964\tvalidation_1-error:0.202203\n",
      "[326]\tvalidation_0-error:0.187829\tvalidation_1-error:0.20209\n",
      "[327]\tvalidation_0-error:0.187753\tvalidation_1-error:0.202041\n",
      "[328]\tvalidation_0-error:0.187736\tvalidation_1-error:0.201934\n",
      "[329]\tvalidation_0-error:0.187659\tvalidation_1-error:0.202084\n",
      "[330]\tvalidation_0-error:0.187644\tvalidation_1-error:0.201859\n",
      "[331]\tvalidation_0-error:0.187542\tvalidation_1-error:0.201841\n",
      "[332]\tvalidation_0-error:0.187498\tvalidation_1-error:0.201928\n",
      "[333]\tvalidation_0-error:0.187402\tvalidation_1-error:0.201903\n",
      "[334]\tvalidation_0-error:0.187439\tvalidation_1-error:0.201859\n",
      "[335]\tvalidation_0-error:0.187322\tvalidation_1-error:0.201685\n",
      "[336]\tvalidation_0-error:0.18725\tvalidation_1-error:0.20171\n",
      "[337]\tvalidation_0-error:0.187102\tvalidation_1-error:0.201678\n",
      "[338]\tvalidation_0-error:0.187068\tvalidation_1-error:0.201828\n",
      "[339]\tvalidation_0-error:0.187007\tvalidation_1-error:0.20176\n",
      "[340]\tvalidation_0-error:0.18693\tvalidation_1-error:0.20161\n",
      "[341]\tvalidation_0-error:0.186915\tvalidation_1-error:0.20156\n",
      "[342]\tvalidation_0-error:0.186913\tvalidation_1-error:0.201472\n",
      "[343]\tvalidation_0-error:0.186869\tvalidation_1-error:0.201429\n",
      "[344]\tvalidation_0-error:0.186874\tvalidation_1-error:0.201422\n",
      "[345]\tvalidation_0-error:0.186755\tvalidation_1-error:0.20126\n",
      "[346]\tvalidation_0-error:0.186746\tvalidation_1-error:0.201291\n",
      "[347]\tvalidation_0-error:0.186643\tvalidation_1-error:0.201329\n",
      "[348]\tvalidation_0-error:0.186585\tvalidation_1-error:0.201273\n",
      "[349]\tvalidation_0-error:0.186517\tvalidation_1-error:0.201273\n",
      "[350]\tvalidation_0-error:0.186454\tvalidation_1-error:0.201216\n",
      "[351]\tvalidation_0-error:0.186496\tvalidation_1-error:0.201123\n",
      "[352]\tvalidation_0-error:0.186376\tvalidation_1-error:0.201091\n",
      "[353]\tvalidation_0-error:0.186228\tvalidation_1-error:0.201091\n",
      "[354]\tvalidation_0-error:0.186209\tvalidation_1-error:0.201066\n",
      "[355]\tvalidation_0-error:0.186201\tvalidation_1-error:0.201035\n",
      "[356]\tvalidation_0-error:0.186081\tvalidation_1-error:0.201135\n",
      "[357]\tvalidation_0-error:0.186062\tvalidation_1-error:0.201029\n",
      "[358]\tvalidation_0-error:0.185997\tvalidation_1-error:0.201185\n",
      "[359]\tvalidation_0-error:0.185919\tvalidation_1-error:0.201166\n",
      "[360]\tvalidation_0-error:0.185894\tvalidation_1-error:0.201266\n",
      "[361]\tvalidation_0-error:0.185814\tvalidation_1-error:0.201148\n",
      "[362]\tvalidation_0-error:0.185766\tvalidation_1-error:0.20116\n",
      "[363]\tvalidation_0-error:0.185658\tvalidation_1-error:0.201141\n",
      "[364]\tvalidation_0-error:0.185588\tvalidation_1-error:0.201054\n",
      "[365]\tvalidation_0-error:0.185518\tvalidation_1-error:0.200948\n",
      "[366]\tvalidation_0-error:0.185461\tvalidation_1-error:0.200998\n",
      "[367]\tvalidation_0-error:0.185429\tvalidation_1-error:0.200967\n",
      "[368]\tvalidation_0-error:0.185285\tvalidation_1-error:0.201066\n",
      "[369]\tvalidation_0-error:0.185287\tvalidation_1-error:0.201123\n",
      "[370]\tvalidation_0-error:0.185221\tvalidation_1-error:0.201098\n",
      "[371]\tvalidation_0-error:0.18521\tvalidation_1-error:0.201148\n",
      "[372]\tvalidation_0-error:0.185129\tvalidation_1-error:0.201141\n",
      "[373]\tvalidation_0-error:0.185104\tvalidation_1-error:0.201066\n",
      "[374]\tvalidation_0-error:0.185088\tvalidation_1-error:0.20106\n",
      "[375]\tvalidation_0-error:0.185091\tvalidation_1-error:0.201041\n",
      "[376]\tvalidation_0-error:0.18487\tvalidation_1-error:0.20106\n",
      "[377]\tvalidation_0-error:0.184856\tvalidation_1-error:0.201048\n",
      "[378]\tvalidation_0-error:0.184839\tvalidation_1-error:0.20101\n",
      "[379]\tvalidation_0-error:0.184834\tvalidation_1-error:0.200979\n",
      "[380]\tvalidation_0-error:0.184706\tvalidation_1-error:0.200917\n",
      "[381]\tvalidation_0-error:0.184654\tvalidation_1-error:0.200935\n",
      "[382]\tvalidation_0-error:0.184648\tvalidation_1-error:0.200929\n",
      "[383]\tvalidation_0-error:0.184548\tvalidation_1-error:0.200748\n",
      "[384]\tvalidation_0-error:0.184473\tvalidation_1-error:0.200604\n",
      "[385]\tvalidation_0-error:0.18448\tvalidation_1-error:0.200692\n",
      "[386]\tvalidation_0-error:0.184422\tvalidation_1-error:0.200692\n",
      "[387]\tvalidation_0-error:0.184356\tvalidation_1-error:0.200704\n",
      "[388]\tvalidation_0-error:0.18428\tvalidation_1-error:0.200761\n",
      "[389]\tvalidation_0-error:0.184217\tvalidation_1-error:0.200717\n",
      "[390]\tvalidation_0-error:0.184209\tvalidation_1-error:0.200692\n",
      "[391]\tvalidation_0-error:0.184138\tvalidation_1-error:0.200748\n",
      "[392]\tvalidation_0-error:0.184091\tvalidation_1-error:0.200742\n",
      "[393]\tvalidation_0-error:0.184103\tvalidation_1-error:0.200623\n",
      "[394]\tvalidation_0-error:0.183957\tvalidation_1-error:0.200648\n",
      "[395]\tvalidation_0-error:0.183938\tvalidation_1-error:0.200529\n",
      "[396]\tvalidation_0-error:0.183919\tvalidation_1-error:0.200573\n",
      "[397]\tvalidation_0-error:0.183888\tvalidation_1-error:0.200486\n",
      "[398]\tvalidation_0-error:0.1838\tvalidation_1-error:0.200392\n",
      "[399]\tvalidation_0-error:0.18373\tvalidation_1-error:0.200355\n",
      "[400]\tvalidation_0-error:0.18363\tvalidation_1-error:0.200286\n"
     ]
    },
    {
     "name": "stdout",
     "output_type": "stream",
     "text": [
      "[401]\tvalidation_0-error:0.183591\tvalidation_1-error:0.200242\n",
      "[402]\tvalidation_0-error:0.183557\tvalidation_1-error:0.200292\n",
      "[403]\tvalidation_0-error:0.183507\tvalidation_1-error:0.200249\n",
      "[404]\tvalidation_0-error:0.183396\tvalidation_1-error:0.200261\n",
      "[405]\tvalidation_0-error:0.183406\tvalidation_1-error:0.200167\n",
      "[406]\tvalidation_0-error:0.183432\tvalidation_1-error:0.200192\n",
      "[407]\tvalidation_0-error:0.183352\tvalidation_1-error:0.200242\n",
      "[408]\tvalidation_0-error:0.18331\tvalidation_1-error:0.200111\n",
      "[409]\tvalidation_0-error:0.183237\tvalidation_1-error:0.200067\n",
      "[410]\tvalidation_0-error:0.183204\tvalidation_1-error:0.200036\n",
      "[411]\tvalidation_0-error:0.183189\tvalidation_1-error:0.200117\n",
      "[412]\tvalidation_0-error:0.183121\tvalidation_1-error:0.199943\n",
      "[413]\tvalidation_0-error:0.183022\tvalidation_1-error:0.199943\n",
      "[414]\tvalidation_0-error:0.18292\tvalidation_1-error:0.199924\n",
      "[415]\tvalidation_0-error:0.182842\tvalidation_1-error:0.200074\n",
      "[416]\tvalidation_0-error:0.182764\tvalidation_1-error:0.200055\n",
      "[417]\tvalidation_0-error:0.182684\tvalidation_1-error:0.199936\n",
      "[418]\tvalidation_0-error:0.182697\tvalidation_1-error:0.19978\n",
      "[419]\tvalidation_0-error:0.182597\tvalidation_1-error:0.199868\n",
      "[420]\tvalidation_0-error:0.182564\tvalidation_1-error:0.199968\n",
      "[421]\tvalidation_0-error:0.182525\tvalidation_1-error:0.199918\n",
      "[422]\tvalidation_0-error:0.182503\tvalidation_1-error:0.19993\n",
      "[423]\tvalidation_0-error:0.182344\tvalidation_1-error:0.199974\n",
      "[424]\tvalidation_0-error:0.18238\tvalidation_1-error:0.19988\n",
      "[425]\tvalidation_0-error:0.182316\tvalidation_1-error:0.199755\n",
      "[426]\tvalidation_0-error:0.182297\tvalidation_1-error:0.199936\n",
      "[427]\tvalidation_0-error:0.182229\tvalidation_1-error:0.199899\n",
      "[428]\tvalidation_0-error:0.182227\tvalidation_1-error:0.199911\n",
      "[429]\tvalidation_0-error:0.182154\tvalidation_1-error:0.199811\n",
      "[430]\tvalidation_0-error:0.182099\tvalidation_1-error:0.199755\n",
      "[431]\tvalidation_0-error:0.181993\tvalidation_1-error:0.199749\n",
      "[432]\tvalidation_0-error:0.181932\tvalidation_1-error:0.199793\n",
      "[433]\tvalidation_0-error:0.181952\tvalidation_1-error:0.199724\n",
      "[434]\tvalidation_0-error:0.181891\tvalidation_1-error:0.19963\n",
      "[435]\tvalidation_0-error:0.181818\tvalidation_1-error:0.199674\n",
      "[436]\tvalidation_0-error:0.181756\tvalidation_1-error:0.199587\n",
      "[437]\tvalidation_0-error:0.181729\tvalidation_1-error:0.199543\n",
      "[438]\tvalidation_0-error:0.181679\tvalidation_1-error:0.199505\n",
      "[439]\tvalidation_0-error:0.181628\tvalidation_1-error:0.199524\n",
      "[440]\tvalidation_0-error:0.181587\tvalidation_1-error:0.199512\n",
      "[441]\tvalidation_0-error:0.181537\tvalidation_1-error:0.199449\n",
      "[442]\tvalidation_0-error:0.181372\tvalidation_1-error:0.199456\n",
      "[443]\tvalidation_0-error:0.18137\tvalidation_1-error:0.199437\n",
      "[444]\tvalidation_0-error:0.181334\tvalidation_1-error:0.199518\n",
      "[445]\tvalidation_0-error:0.181314\tvalidation_1-error:0.199406\n",
      "[446]\tvalidation_0-error:0.181262\tvalidation_1-error:0.199487\n",
      "[447]\tvalidation_0-error:0.181248\tvalidation_1-error:0.199574\n",
      "[448]\tvalidation_0-error:0.181222\tvalidation_1-error:0.199568\n",
      "[449]\tvalidation_0-error:0.181216\tvalidation_1-error:0.199443\n",
      "[450]\tvalidation_0-error:0.181184\tvalidation_1-error:0.199437\n",
      "[451]\tvalidation_0-error:0.181127\tvalidation_1-error:0.199493\n",
      "[452]\tvalidation_0-error:0.181059\tvalidation_1-error:0.199487\n",
      "[453]\tvalidation_0-error:0.181041\tvalidation_1-error:0.199481\n",
      "[454]\tvalidation_0-error:0.180992\tvalidation_1-error:0.199431\n",
      "[455]\tvalidation_0-error:0.180975\tvalidation_1-error:0.199306\n",
      "[456]\tvalidation_0-error:0.180905\tvalidation_1-error:0.199318\n",
      "[457]\tvalidation_0-error:0.180896\tvalidation_1-error:0.199299\n",
      "[458]\tvalidation_0-error:0.180889\tvalidation_1-error:0.199212\n",
      "[459]\tvalidation_0-error:0.180844\tvalidation_1-error:0.199187\n",
      "[460]\tvalidation_0-error:0.180792\tvalidation_1-error:0.199112\n",
      "[461]\tvalidation_0-error:0.180797\tvalidation_1-error:0.199162\n",
      "[462]\tvalidation_0-error:0.180769\tvalidation_1-error:0.199218\n",
      "[463]\tvalidation_0-error:0.180738\tvalidation_1-error:0.199274\n",
      "[464]\tvalidation_0-error:0.180666\tvalidation_1-error:0.1991\n",
      "[465]\tvalidation_0-error:0.18059\tvalidation_1-error:0.199018\n",
      "[466]\tvalidation_0-error:0.180472\tvalidation_1-error:0.199137\n",
      "[467]\tvalidation_0-error:0.180441\tvalidation_1-error:0.199087\n",
      "[468]\tvalidation_0-error:0.180329\tvalidation_1-error:0.199018\n",
      "[469]\tvalidation_0-error:0.180304\tvalidation_1-error:0.199031\n",
      "[470]\tvalidation_0-error:0.180237\tvalidation_1-error:0.198906\n",
      "[471]\tvalidation_0-error:0.180152\tvalidation_1-error:0.198987\n",
      "[472]\tvalidation_0-error:0.180173\tvalidation_1-error:0.199037\n",
      "[473]\tvalidation_0-error:0.180078\tvalidation_1-error:0.19905\n",
      "[474]\tvalidation_0-error:0.180051\tvalidation_1-error:0.199037\n",
      "[475]\tvalidation_0-error:0.179987\tvalidation_1-error:0.198844\n",
      "[476]\tvalidation_0-error:0.17996\tvalidation_1-error:0.198812\n",
      "[477]\tvalidation_0-error:0.179889\tvalidation_1-error:0.1988\n",
      "[478]\tvalidation_0-error:0.179856\tvalidation_1-error:0.198787\n",
      "[479]\tvalidation_0-error:0.179815\tvalidation_1-error:0.198794\n",
      "[480]\tvalidation_0-error:0.179773\tvalidation_1-error:0.19875\n",
      "[481]\tvalidation_0-error:0.179742\tvalidation_1-error:0.198688\n",
      "[482]\tvalidation_0-error:0.179731\tvalidation_1-error:0.198694\n",
      "[483]\tvalidation_0-error:0.179661\tvalidation_1-error:0.198631\n",
      "[484]\tvalidation_0-error:0.179634\tvalidation_1-error:0.198663\n",
      "[485]\tvalidation_0-error:0.179583\tvalidation_1-error:0.198619\n",
      "[486]\tvalidation_0-error:0.179551\tvalidation_1-error:0.198675\n",
      "[487]\tvalidation_0-error:0.179416\tvalidation_1-error:0.198544\n",
      "[488]\tvalidation_0-error:0.179383\tvalidation_1-error:0.198525\n",
      "[489]\tvalidation_0-error:0.179363\tvalidation_1-error:0.198656\n",
      "[490]\tvalidation_0-error:0.17928\tvalidation_1-error:0.198519\n",
      "[491]\tvalidation_0-error:0.17928\tvalidation_1-error:0.198525\n",
      "[492]\tvalidation_0-error:0.179231\tvalidation_1-error:0.198519\n",
      "[493]\tvalidation_0-error:0.179197\tvalidation_1-error:0.198519\n",
      "[494]\tvalidation_0-error:0.1791\tvalidation_1-error:0.198463\n",
      "[495]\tvalidation_0-error:0.179005\tvalidation_1-error:0.198382\n",
      "[496]\tvalidation_0-error:0.178946\tvalidation_1-error:0.198375\n",
      "[497]\tvalidation_0-error:0.178991\tvalidation_1-error:0.19835\n",
      "[498]\tvalidation_0-error:0.178947\tvalidation_1-error:0.198375\n",
      "[499]\tvalidation_0-error:0.178847\tvalidation_1-error:0.198338\n"
     ]
    },
    {
     "data": {
      "text/plain": [
       "XGBClassifier(base_score=0.5, booster='gbtree', colsample_bylevel=1,\n",
       "       colsample_bytree=1, gamma=0, kvargs={'tree_method': 'gpu_exact'},\n",
       "       learning_rate=0.1, max_delta_step=0, max_depth=5,\n",
       "       min_child_weight=1, missing=None, n_estimators=500, n_jobs=-1,\n",
       "       nthread=None, objective='gpu:binary:logistic', random_state=0,\n",
       "       reg_alpha=0, reg_lambda=1, scale_pos_weight=1, seed=None,\n",
       "       silent=True, subsample=1)"
      ]
     },
     "execution_count": 49,
     "metadata": {},
     "output_type": "execute_result"
    }
   ],
   "source": [
    "model.fit(x_train, y=y_train, eval_set=[(x_train, y_train), (x_test, y_test)], eval_metric= 'error')"
   ]
  },
  {
   "cell_type": "code",
   "execution_count": 107,
   "metadata": {},
   "outputs": [
    {
     "name": "stderr",
     "output_type": "stream",
     "text": [
      "C:\\Users\\nathd\\Anaconda3\\lib\\site-packages\\sklearn\\preprocessing\\label.py:151: DeprecationWarning: The truth value of an empty array is ambiguous. Returning False, but in future this will result in an error. Use `array.size > 0` to check that an array is not empty.\n",
      "  if diff:\n"
     ]
    }
   ],
   "source": [
    "y_pred = model.predict(x_test)"
   ]
  },
  {
   "cell_type": "code",
   "execution_count": 108,
   "metadata": {},
   "outputs": [],
   "source": [
    "y_true = y_test.flatten()"
   ]
  },
  {
   "cell_type": "code",
   "execution_count": 109,
   "metadata": {},
   "outputs": [],
   "source": [
    "from sklearn.metrics import confusion_matrix, accuracy_score"
   ]
  },
  {
   "cell_type": "code",
   "execution_count": 110,
   "metadata": {},
   "outputs": [
    {
     "data": {
      "text/plain": [
       "array([[80703, 13218],\n",
       "       [18547, 47688]], dtype=int64)"
      ]
     },
     "execution_count": 110,
     "metadata": {},
     "output_type": "execute_result"
    }
   ],
   "source": [
    "confusion_matrix(y_true, y_pred)"
   ]
  },
  {
   "cell_type": "code",
   "execution_count": 111,
   "metadata": {},
   "outputs": [
    {
     "data": {
      "text/plain": [
       "0.8016621294238118"
      ]
     },
     "execution_count": 111,
     "metadata": {},
     "output_type": "execute_result"
    }
   ],
   "source": [
    "accuracy_score(y_true, y_pred)"
   ]
  },
  {
   "cell_type": "markdown",
   "metadata": {},
   "source": [
    "We are able to get around 80% accuracy on the test set which is using XGboost (no parameter tuning done). It would also be interesting to see if we can do better with RNNs which are better with sequences."
   ]
  },
  {
   "cell_type": "code",
   "execution_count": 61,
   "metadata": {},
   "outputs": [],
   "source": [
    "model.save_model('xgb_twitter_sentiment_model.model')\n",
    "model.save_model('xgb-twitter_sentiment.bin')"
   ]
  },
  {
   "cell_type": "code",
   "execution_count": 64,
   "metadata": {},
   "outputs": [
    {
     "data": {
      "text/plain": [
       "(442834, 200)"
      ]
     },
     "execution_count": 64,
     "metadata": {},
     "output_type": "execute_result"
    }
   ],
   "source": [
    "x_train.shape"
   ]
  },
  {
   "cell_type": "code",
   "execution_count": 118,
   "metadata": {},
   "outputs": [],
   "source": [
    "sample = [\"It's\", \"really\", \"bad\", \"weather\", \"out\", \"there\"]\n",
    "#ample = ['I', 'like', 'the', 'weather', 'today']"
   ]
  },
  {
   "cell_type": "code",
   "execution_count": 119,
   "metadata": {},
   "outputs": [],
   "source": [
    "sample_vector =build_vectors(sample, tfidf)"
   ]
  },
  {
   "cell_type": "code",
   "execution_count": 120,
   "metadata": {},
   "outputs": [
    {
     "data": {
      "text/plain": [
       "(1, 200)"
      ]
     },
     "execution_count": 120,
     "metadata": {},
     "output_type": "execute_result"
    }
   ],
   "source": [
    "sample_vector.shape"
   ]
  },
  {
   "cell_type": "code",
   "execution_count": 121,
   "metadata": {},
   "outputs": [
    {
     "name": "stderr",
     "output_type": "stream",
     "text": [
      "C:\\Users\\nathd\\Anaconda3\\lib\\site-packages\\sklearn\\preprocessing\\label.py:151: DeprecationWarning: The truth value of an empty array is ambiguous. Returning False, but in future this will result in an error. Use `array.size > 0` to check that an array is not empty.\n",
      "  if diff:\n"
     ]
    },
    {
     "data": {
      "text/plain": [
       "array([0], dtype=int64)"
      ]
     },
     "execution_count": 121,
     "metadata": {},
     "output_type": "execute_result"
    }
   ],
   "source": [
    "model.predict(sample_vector)"
   ]
  },
  {
   "cell_type": "code",
   "execution_count": null,
   "metadata": {},
   "outputs": [],
   "source": []
  }
 ],
 "metadata": {
  "kernelspec": {
   "display_name": "Python 3",
   "language": "python",
   "name": "python3"
  },
  "language_info": {
   "codemirror_mode": {
    "name": "ipython",
    "version": 3
   },
   "file_extension": ".py",
   "mimetype": "text/x-python",
   "name": "python",
   "nbconvert_exporter": "python",
   "pygments_lexer": "ipython3",
   "version": "3.6.5"
  }
 },
 "nbformat": 4,
 "nbformat_minor": 2
}
